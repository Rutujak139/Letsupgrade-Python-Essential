{
 "cells": [
  {
   "cell_type": "code",
   "execution_count": null,
   "metadata": {},
   "outputs": [],
   "source": [
    "'''1. You all are pilots,you want to land a plane safely,so altitude required for landing plane is 1000ft,\n",
    "its less than tell pilot to land plane or its more than that but less than 5000ft ask the pilot to \"come down to 1000ft\" \n",
    "else if it more then 5000ft ask the pilot to \"go around and try later\"'''"
   ]
  },
  {
   "cell_type": "code",
   "execution_count": 20,
   "metadata": {},
   "outputs": [
    {
     "name": "stdout",
     "output_type": "stream",
     "text": [
      "Altitude: 5000\n",
      "5000\n",
      "Come down to 1000ft\n"
     ]
    }
   ],
   "source": [
    "Altitude = int(input(\"Altitude: \"))\n",
    "print(Altitude)\n",
    "if (Altitude <= 1000):\n",
    "    print(\"Land the plane\")\n",
    "elif(Altitude > 1000 and Altitude <= 5000):\n",
    "    print(\"Come down to 1000ft\")\n",
    "elif(Altitude > 5000):\n",
    "    print(\"Go around and try later\")"
   ]
  },
  {
   "cell_type": "code",
   "execution_count": 17,
   "metadata": {},
   "outputs": [
    {
     "data": {
      "text/plain": [
       "'Using for loop please print all prime number between 1-200 using range functon'"
      ]
     },
     "execution_count": 17,
     "metadata": {},
     "output_type": "execute_result"
    }
   ],
   "source": [
    "'''Using for loop please print all prime number between 1-200 using range functon'''"
   ]
  },
  {
   "cell_type": "code",
   "execution_count": 33,
   "metadata": {},
   "outputs": [
    {
     "name": "stdout",
     "output_type": "stream",
     "text": [
      " 2   3   5   7   11   13   17   19   23   29   31   37   41   43   47   53   59   61   67   71   73   79   83   89   97   101   103   107   109   113   127   131   137   139   149   151   157   163   167   173   179   181   191   193   197   199  "
     ]
    }
   ],
   "source": [
    "for Number in range (1, 201):\n",
    "    count = 0\n",
    "    for i in range(2, (Number//2 + 1)):\n",
    "        if(Number % i == 0):\n",
    "            count = count + 1\n",
    "            break\n",
    "\n",
    "    if (count == 0 and Number != 1):\n",
    "        print(\" %d\" %Number, end = '  ')"
   ]
  }
 ],
 "metadata": {
  "kernelspec": {
   "display_name": "Python 3",
   "language": "python",
   "name": "python3"
  },
  "language_info": {
   "codemirror_mode": {
    "name": "ipython",
    "version": 3
   },
   "file_extension": ".py",
   "mimetype": "text/x-python",
   "name": "python",
   "nbconvert_exporter": "python",
   "pygments_lexer": "ipython3",
   "version": "3.7.4"
  }
 },
 "nbformat": 4,
 "nbformat_minor": 2
}
