{
 "cells": [
  {
   "cell_type": "code",
   "execution_count": 1,
   "metadata": {},
   "outputs": [
    {
     "data": {
      "text/plain": [
       "'Print 1st armstrong number in range of 1042000 to 702648265 and exit loop as soon as you encounter 1st armstrong number '"
      ]
     },
     "execution_count": 1,
     "metadata": {},
     "output_type": "execute_result"
    }
   ],
   "source": [
    "'''Print 1st armstrong number in range of 1042000 to 702648265 and exit loop as soon as you encounter 1st armstrong number '''"
   ]
  },
  {
   "cell_type": "code",
   "execution_count": 3,
   "metadata": {},
   "outputs": [
    {
     "name": "stdout",
     "output_type": "stream",
     "text": [
      "The first armstrong number is  1741725\n"
     ]
    }
   ],
   "source": [
    "Minimum = 1042000\n",
    "Maximum = 702648265\n",
    "\n",
    "for Number in range(Minimum, Maximum + 1):\n",
    "           Sum = 0\n",
    "           Times = 0\n",
    "           Temp = Number\n",
    "           while Temp > 0:\n",
    "                      Times = Times + 1\n",
    "                      Temp = Temp // 10\n",
    "           Temp = Number\n",
    "           while Temp > 0:\n",
    "                      Reminder = Temp % 10\n",
    "                      Sum = Sum + (Reminder ** Times)\n",
    "                      Temp //= 10\n",
    "           if Number == Sum:\n",
    "                      print(\"The first armstrong number is \",Number)\n",
    "                      break"
   ]
  }
 ],
 "metadata": {
  "kernelspec": {
   "display_name": "Python 3",
   "language": "python",
   "name": "python3"
  },
  "language_info": {
   "codemirror_mode": {
    "name": "ipython",
    "version": 3
   },
   "file_extension": ".py",
   "mimetype": "text/x-python",
   "name": "python",
   "nbconvert_exporter": "python",
   "pygments_lexer": "ipython3",
   "version": "3.7.4"
  }
 },
 "nbformat": 4,
 "nbformat_minor": 2
}
