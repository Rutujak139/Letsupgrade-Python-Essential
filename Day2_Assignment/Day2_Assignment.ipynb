{
 "cells": [
  {
   "cell_type": "markdown",
   "metadata": {},
   "source": [
    "# Que 1. List and its default functions."
   ]
  },
  {
   "cell_type": "code",
   "execution_count": 15,
   "metadata": {},
   "outputs": [
    {
     "name": "stdout",
     "output_type": "stream",
     "text": [
      "['Marathi', 'Hindi', 'English', 'Telugu', 'Tamil']\n",
      "Marathi\n",
      "Hindi\n",
      "Tamil\n",
      "['Hindi', 'English', 'Telugu', 'Tamil']\n",
      "['Marathi', 'Hindi']\n",
      "['Marathi', 'Hindi', 'English', 'Telugu']\n",
      "['Hindi', 'English', 'Telugu']\n",
      "['Hindi', 'English', 'Telugu', 'German']\n",
      "['English', 'Telugu', 'German']\n",
      "['English']\n"
     ]
    }
   ],
   "source": [
    "lst = [\"Marathi\",\"Hindi\",\"English\",\"Telugu\"]\n",
    "lst.append(\"Tamil\")\n",
    "print(lst)\n",
    "print(lst[0])\n",
    "print(lst[1])\n",
    "print(lst[-1])\n",
    "print(lst[1:])\n",
    "print(lst[:2])\n",
    "lst.pop()\n",
    "print(lst)\n",
    "lst.pop(0)\n",
    "print(lst)\n",
    "lst.insert(4,\"German\")\n",
    "print(lst)\n",
    "lst.remove(\"Hindi\")\n",
    "print(lst)\n",
    "del lst[1:]\n",
    "print(lst)"
   ]
  },
  {
   "cell_type": "markdown",
   "metadata": {},
   "source": [
    "# Que 2. Dictionary and its default functions"
   ]
  },
  {
   "cell_type": "code",
   "execution_count": 21,
   "metadata": {},
   "outputs": [
    {
     "name": "stdout",
     "output_type": "stream",
     "text": [
      "{'PPA': '9000', 'LB': '7500', 'Python': '5000', 'Angular': '5000'}\n",
      "<class 'dict'>\n",
      "dict_keys(['PPA', 'LB', 'Python', 'Angular'])\n",
      "dict_values(['9000', '7500', '5000', '5000'])\n",
      "5000\n"
     ]
    }
   ],
   "source": [
    "batches = {\"PPA\":\"9000\",\"LB\":\"7500\",\"Python\":\"5000\",\"Angular\":\"5000\"}\n",
    "print(batches)\n",
    "print(type(batches))\n",
    "print(batches.keys())\n",
    "print(batches.values())\n",
    "print(batches[\"Python\"])"
   ]
  },
  {
   "cell_type": "markdown",
   "metadata": {},
   "source": [
    "# Que 3.  Set and its default functions"
   ]
  },
  {
   "cell_type": "code",
   "execution_count": 16,
   "metadata": {},
   "outputs": [
    {
     "name": "stdout",
     "output_type": "stream",
     "text": [
      "{3.14, 11, 'PPA', 21, 'Python'}\n",
      "5\n",
      "{3.14, 11, 'PPA', 'Python'}\n",
      "{3.14, 'PPA', 'Python'}\n",
      "{3.14, 'Angular', 'PPA', 'Python'}\n"
     ]
    }
   ],
   "source": [
    "deepSet = {11,\"PPA\",21,3.14,\"Python\"}\n",
    "print(deepSet)\n",
    "print(len(deepSet))\n",
    "deepSet.remove(21)\n",
    "print(deepSet)\n",
    "deepSet.discard(11)\n",
    "print(deepSet)\n",
    "deepSet.add(\"Angular\")\n",
    "print(deepSet)\n"
   ]
  },
  {
   "cell_type": "markdown",
   "metadata": {},
   "source": [
    "# Que 4. Tuple and its default functions."
   ]
  },
  {
   "cell_type": "code",
   "execution_count": 17,
   "metadata": {},
   "outputs": [
    {
     "name": "stdout",
     "output_type": "stream",
     "text": [
      "(11, 'Deep', 3.14, 51, 'Technolysis')\n",
      "11\n",
      "Deep\n",
      "('Deep', 3.14, 51, 'Technolysis')\n",
      "(11, 'Deep')\n",
      "('Deep',)\n",
      "5\n",
      "False\n",
      "(11, 'Deep', 3.14, 51, 'Technolysis')\n"
     ]
    }
   ],
   "source": [
    "tup = (11,\"Deep\",3.14,51,\"Technolysis\")\n",
    "print(tup)\n",
    "print(tup[0])\n",
    "print(tup[1])\n",
    "print(tup[1:])\n",
    "print(tup[:2])\n",
    "print(tup[1:2])\n",
    "print(len(tup))\n",
    "print(\"DeepT\" in tup) \n",
    "print(tup)\n",
    "del tup"
   ]
  },
  {
   "cell_type": "markdown",
   "metadata": {},
   "source": [
    "# Que 5. String and its default functions"
   ]
  },
  {
   "cell_type": "code",
   "execution_count": 18,
   "metadata": {},
   "outputs": [
    {
     "name": "stdout",
     "output_type": "stream",
     "text": [
      "DeepTechnolysis\n",
      "<class 'str'>\n",
      "DeepTechnolysis\n",
      "<class 'str'>\n",
      "D\n",
      "p\n",
      "s\n",
      "i\n",
      "Dee\n",
      "e\n",
      "epTechnolysis\n",
      "Dee\n"
     ]
    }
   ],
   "source": [
    "name = \"DeepTechnolysis\"\n",
    "newName = 'DeepTechnolysis'\n",
    "print(name)\n",
    "print(type(name))\n",
    "print(newName)\n",
    "print(type(newName))\n",
    "print(name[0])\n",
    "print(name[3])\n",
    "print(name[-1])\n",
    "print(name[-2])\n",
    "print(name[0:3])\n",
    "print(name[2:3])\n",
    "print(name[2:])\n",
    "print(name[:3])"
   ]
  },
  {
   "cell_type": "code",
   "execution_count": null,
   "metadata": {},
   "outputs": [],
   "source": []
  }
 ],
 "metadata": {
  "kernelspec": {
   "display_name": "Python 3",
   "language": "python",
   "name": "python3"
  },
  "language_info": {
   "codemirror_mode": {
    "name": "ipython",
    "version": 3
   },
   "file_extension": ".py",
   "mimetype": "text/x-python",
   "name": "python",
   "nbconvert_exporter": "python",
   "pygments_lexer": "ipython3",
   "version": "3.7.4"
  }
 },
 "nbformat": 4,
 "nbformat_minor": 2
}
